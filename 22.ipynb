{
 "cells": [
  {
   "cell_type": "code",
   "execution_count": 1,
   "id": "b872f2ea-c12b-4bce-931a-508804ed155b",
   "metadata": {},
   "outputs": [],
   "source": [
    "import cv2\n",
    "import time"
   ]
  },
  {
   "cell_type": "code",
   "execution_count": 3,
   "id": "3d83ccb0-8aa0-4319-a3af-532973b3f390",
   "metadata": {},
   "outputs": [],
   "source": [
    "my_video = cv2.VideoCapture('./data/Trailer LCK Spring 2024 I Tấm Lòng Son Version I edit by Sụp.mp4')"
   ]
  },
  {
   "cell_type": "code",
   "execution_count": 5,
   "id": "7cd28dcd-6e66-40ba-8b32-fe9f24d9e260",
   "metadata": {},
   "outputs": [],
   "source": [
    "cv2.namedWindow('Video Player', cv2.WINDOW_NORMAL)"
   ]
  },
  {
   "cell_type": "code",
   "execution_count": 7,
   "id": "4bb0fb78-ba40-4549-8eb1-8164e1a7bb77",
   "metadata": {},
   "outputs": [],
   "source": [
    "font = cv2.FONT_HERSHEY_SIMPLEX\n",
    "font_color = (255, 255, 255)\n",
    "font_scale = 2\n",
    "font_thicknes = 2"
   ]
  },
  {
   "cell_type": "code",
   "execution_count": null,
   "id": "a946e324-4ec4-4115-b5be-ab65569e10c9",
   "metadata": {},
   "outputs": [],
   "source": [
    "while True:\n",
    "    \n",
    "    start_time = time.time()\n",
    "   \n",
    "    ret, frame = my_video.read()\n",
    "    \n",
    "    if not ret:\n",
    "        break\n",
    "   \n",
    "    end_time = time.time()    \n",
    " \n",
    "    fps = 1/(end_time-start_time)\n",
    "    \n",
    "    cv2.putText(frame, f'FPS: {fps:.2f}', (100, 100), font, font_scale, font_color , font_thicknes)\n",
    "    \n",
    "    cv2.imshow('Video Player', frame)\n",
    "    if(cv2.waitKey(10)==ord('q')):\n",
    "        break\n",
    "\n",
    "\n",
    "my_video.release()\n",
    "cv2.destroyAllWindows()"
   ]
  },
  {
   "cell_type": "code",
   "execution_count": null,
   "id": "65e7a616-7305-411a-955f-da92f30b8406",
   "metadata": {},
   "outputs": [],
   "source": []
  }
 ],
 "metadata": {
  "kernelspec": {
   "display_name": "Python 3 (ipykernel)",
   "language": "python",
   "name": "python3"
  },
  "language_info": {
   "codemirror_mode": {
    "name": "ipython",
    "version": 3
   },
   "file_extension": ".py",
   "mimetype": "text/x-python",
   "name": "python",
   "nbconvert_exporter": "python",
   "pygments_lexer": "ipython3",
   "version": "3.12.4"
  }
 },
 "nbformat": 4,
 "nbformat_minor": 5
}
