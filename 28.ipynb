{
  "nbformat": 4,
  "nbformat_minor": 0,
  "metadata": {
    "colab": {
      "provenance": []
    },
    "kernelspec": {
      "name": "python3",
      "display_name": "Python 3"
    },
    "language_info": {
      "name": "python"
    }
  },
  "cells": [
    {
      "cell_type": "code",
      "execution_count": 11,
      "metadata": {
        "id": "3Tgz-ojNa7Bv"
      },
      "outputs": [],
      "source": [
        "import cv2\n",
        "import numpy as np"
      ]
    },
    {
      "cell_type": "code",
      "source": [
        "net = cv2.dnn.readNetFromCaffe\n",
        "(\n",
        "    './models/deploy.prototxt',\n",
        "    './models/res10_300x300_ssd_iter_140000_fp16.caffemodel'\n",
        ")"
      ],
      "metadata": {
        "colab": {
          "base_uri": "https://localhost:8080/"
        },
        "id": "a2rDS1NQfT9L",
        "outputId": "e3294366-f50d-4cf6-8658-affc75351396"
      },
      "execution_count": 12,
      "outputs": [
        {
          "output_type": "execute_result",
          "data": {
            "text/plain": [
              "('./models/deploy.prototxt',\n",
              " './models/res10_300x300_ssd_iter_140000_fp16.caffemodel')"
            ]
          },
          "metadata": {},
          "execution_count": 12
        }
      ]
    },
    {
      "cell_type": "code",
      "source": [
        "cap = cv2.VideoCapture('./image/video.mp4')"
      ],
      "metadata": {
        "id": "1cAij1mifbMc"
      },
      "execution_count": 31,
      "outputs": []
    },
    {
      "cell_type": "code",
      "source": [
        "if not cap.isOpened():\n",
        "    print(\"Không thể mở webcam.\")\n",
        "else:\n",
        "    print(\"Webcam đã mở thành công.\")"
      ],
      "metadata": {
        "colab": {
          "base_uri": "https://localhost:8080/"
        },
        "id": "aNgAnzuJkyTT",
        "outputId": "f1658842-60c8-4c20-8f8a-ee2763d3cf8a"
      },
      "execution_count": 32,
      "outputs": [
        {
          "output_type": "stream",
          "name": "stdout",
          "text": [
            "Không thể mở webcam.\n"
          ]
        }
      ]
    },
    {
      "cell_type": "code",
      "source": [
        "while cap.isOpened():\n",
        "    # Đọc một khung hình từ webcam\n",
        "    ret, frame = cap.read()\n",
        "    if not ret:\n",
        "            print(\"Không thể nhận khung hình từ webcam.\")\n",
        "            break\n",
        "    h = frame.shape[0]\n",
        "    w = frame.shape[1]\n",
        "    blob = cv2.dnn.blobFromImage(frame, 1.0, (300, 300), (104, 177, 123), swapRB=False)\n",
        "    net.setInput(blob)\n",
        "    faces = net.forward()\n",
        "    for i in range(0, faces.shape[2]):\n",
        "        confidence = faces[0,0,i,2]\n",
        "        if confidence>0.5:\n",
        "          # print(faces[0, 0, i, 3:7])\n",
        "            startx = int(faces[0, 0, i, 3]*w)\n",
        "            starty = int(faces[0, 0, i, 4]*h)\n",
        "            endx = int(faces[0, 0, i, 5]*w)\n",
        "            endy = int(faces[0, 0, i, 6]*h)\n",
        "            cv2.rectangle(frame, (startx, starty), (endx, endy), (0, 255, 0),)\n",
        "            text = 'Face: {:.2f}%'.format(confidence*100);\n",
        "            cv2.putText(frame, text, (startx, starty-10), cv2.FONT_HERSHEY_PLAIN, 1, (255,255,255),)\n",
        "        cv2.imshow('Kết quả', frame)\n",
        "    if(cv2.waitKey(1)==ord('q')):\n",
        "        break\n",
        "\n",
        "cap.release()\n",
        "cv2.destroyAllWindows()"
      ],
      "metadata": {
        "id": "uTlvp50Kk0e1"
      },
      "execution_count": 42,
      "outputs": []
    },
    {
      "cell_type": "code",
      "source": [],
      "metadata": {
        "id": "qRxfYbZjnx3K"
      },
      "execution_count": null,
      "outputs": []
    }
  ]
}